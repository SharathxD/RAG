{
 "cells": [
  {
   "cell_type": "code",
   "execution_count": null,
   "id": "034c3800-625e-4a99-b658-5380690178b0",
   "metadata": {},
   "outputs": [],
   "source": [
    "!pip install -q sentence-transformers\n",
    "!pip install -q wikipedia-api\n",
    "!pip install -q numpy\n",
    "!pip install -q scipy\n"
   ]
  },
  {
   "cell_type": "code",
   "execution_count": 54,
   "id": "46a5812d-a62f-495c-a9fd-26118a61ecae",
   "metadata": {},
   "outputs": [],
   "source": [
    "from sentence_transformers import SentenceTransformer\n",
    "SEmodel = SentenceTransformer(\"Alibaba-NLP/gte-base-en-v1.5\", trust_remote_code=True)"
   ]
  },
  {
   "cell_type": "code",
   "execution_count": 55,
   "id": "fc39eb6c-1011-44ba-94a1-3d18a2a38965",
   "metadata": {},
   "outputs": [],
   "source": [
    "from wikipediaapi import Wikipedia\n",
    "wiki = Wikipedia('RAGBot/0.0', 'en')\n",
    "doc = wiki.page('Satoru Gojo').text\n",
    "paragraphs = doc.split('\\n\\n') # chunking"
   ]
  },
  {
   "cell_type": "code",
   "execution_count": 56,
   "id": "6e135670-79a6-4db7-8f25-dfafb8fb12be",
   "metadata": {},
   "outputs": [
    {
     "data": {
      "text/plain": [
       "'Satoru Gojo (Japanese: 五条 悟, Hepburn: Gojō Satoru) is a character from Gege Akutami\\'s manga Jujutsu Kaisen. He was first introduced in Akutami\\'s short series Tokyo Metropolitan Curse Technical School as the mentor of the cursed teenager Yuta Okkotsu at Tokyo Prefectural Jujutsu High School. This miniseries became the prequel Jujutsu Kaisen 0 of Jujutsu Kaisen. In Jujutsu Kaisen, Gojo takes the same role but mentors the student Yuji Itadori who suffers a similar Curse, helping him become stronger while protecting other characters in the series.\\nGojo was designed by Akutami to be a formidable yet endearing figure who is passionate about his students. He is voiced by Yūichi Nakamura in Japanese and Kaiji Tang in English in the animated adaptations by MAPPA.\\nThe character was well-received by the media for his carefree nature and power shown when protecting his students, becoming the series\\'s breakout character. Furthermore, his role in the prequel Jujutsu Kaisen 0 was appreciated by the media due to his hidden traits, such as his relationship with the antagonist Suguru Geto.\\n\\nCreation and conception\\nGege Akutami intended for Gojo to be one of the strongest characters in the entire series, but at the same time easy to understand to readers. One of Gojo\\'s key ideas for his design is a blindfold he can see through thanks to his supernatural powers. His bright-blue eyes endowed to him from birth, the Six Eyes, bear extrasensory powers, granting him the heightened ability to see, read, and manipulate Cursed energy, as well as amplify his own technique, Limitless. In his debut in Jujutsu Kaisen 0, Akutami linked Gojo and Yuta Okkotsu to Michizane Sugawara, a famous figure in Japanese history, which he described as the source of both characters\\' supernatural powers. This was done as a tribute to his late editor, Yamanaka. Gojo\\'s design is intended to be one of a handsome man, often called bishonen. His facial design was inspired by a major Naruto character whose face was covered in bandages. In regards to Gojo\\'s relationship with his students, most notably Yuji Itadori and Yuta Okkotsu, Akutami wrote their relationship simply, as he claims Gojo only wants troublemakers like them to become strong. Despite the common Japanese custom of calling others by their last names, Gojo refers to each of his students by their first names. Akutami said he made this decision because he thought that Gojo did not have proper considerations for such social traditions.\\nSunghoo Park, who directed the first season of the series\\' anime adaptation as well as the new prequel movie, said adapting one of Gojo\\'s early scenes involving the Domain Expansion scene in the season was particularly tough to get just right. Nevertheless, he saw the sequence as memorable. Since the original scene was black-and-white, Park and his team consulted Akutami for guidance on color design from Gojo\\'s Domain Expansion. In regards to the animated movie, Park stated that, while \"the highlight of the movie is of course, the story of Okkotsu and Rika as the main characters of Jujutsu Kaisen 0\", he also wanted to focus on more characters from the manga, most notably of which being the past relationship between Gojo and Geto, which was explored briefly in the original manga. Seko was requested by the director to feature a new fight scene between Gojo and Miguel in the climax.\\nThe song \"Where Our Blue Is\" by Tatsuya Kitani, which acts as the opening of the anime\\'s second season, deals with the youth of Gojo and Geto with an emphasis on blue backgrounds. The opening contrasts the ending theme \"Light\", which uses a more relaxed melody while emphasizing Gojo and Geto\\'s friendship.\\n\\nCasting\\nYuichi Nakamura voices the character Satoru Gojo in the original Japanese series. From serious scenes to comical gag scenes, Gojo has different facial expressions, but since he played without restrictions on the swing range between on and off, Nakamura reiterated at the recording site that he enjoyed gags. The actor did not find a change in Gojo\\'s characterization, finding his mentoring of Yuta similar to the other protagonists from the main Jujutsu Kaisen series. He enjoyed the multiple recording sessions he had, as well as the many school-like relationships. He was impressed by Megumi Ogata\\'s work as Yuta for providing him with a large range of emotions. Mariya Ise voiced the younger Gojo in a flashback from the anime. For the anime\\'s second season Nakamura claims he suffered struggles in properly portraying Gojo due to the two story arcs depicting the same character with different quirks and personality as a result of his age; While people do not change their voices too much over a decade, Nakamura aimed to make Gojo different in the two story arcs from season 2. The voice actor was impressed by the animation studio of Mappa which allowed his character to have more facial expressions which resulted in more direction from his superiors.\\nKaiji Tang voices the character in English. Tang described him as \"the trolliest trolls to ever troll anime.\" The actor noted that the character stands out due to his whimsical nature and how he interacts with his students. He was also praised for how likeable he comes across, due to the kind nature he portrays in the series with a dark narrative while simultaneously showing interesting supernatural powers. Tang still noted that Gojo\\'s arrogance was his only weak point, which also makes him come across as more human.\\nIn another interview, Tang compared Gojo to the comic book character Clark Kent, and believed the charm behind the character was that, despite his age, Gojo acts like a spoiled child. Before dubbing Gojo, Tang had not read the Jujutsu Kaisen manga but had heard of it. When being cast, Tang did research by reading the manga. When first interacting with Yuji Itadori, Gojo is noted to see a rarely-explored darker side of his personality due to how he thinks of the idea of killing a cursed teenager, which leads him to see more arrogance in Gojo. In contrast to his previous works like Gearless Joe from Megalobox or Archer from Fate/stay night, Tang feels that Gojo looks at the world in a more childish way than his previous characters as, while Gojo has seen several challenges in his past, none of them made a major impact on him. In order to lipsynch the character, Tang ended adlibing, resulting in Gojo swearing when confronting Jogo.\\n\\nAppearances\\nJujutsu Kaisen 0\\nA sorcerer working as a teacher at Tokyo Prefectural Jujutsu High School. He holds the self-proclaimed title \\'The Strongest\\'; most allies and enemies alike never actually dispute the title and generally consider him to be one of the most dangerous people alive. In the events of Jujutsu Kaisen 0, Gojo recruits Yuta Okkotsu, a high school student, accompanied by his Curse Spirit, Rika Orimoto, and convinces him to join Jujutsu High. During this time, Gojo makes Yuta train with the previous year students, Panda, Maki Zenin, and Toge Inumaki, to help Yuta control his curse and develop friendships. Yuta\\'s curse attracts Suguru Geto, a previous student at Jujutsu High and an old friend of Gojo. Geto seeks Yuta\\'s curse and wishes to create a shaman-only world. Geto is gravely injured after his fight with Okkotsu and is later executed by Gojo. Gojo then helps Yuta understand the true nature of his curse and powers.\\n\\nJujutsu Kaisen\\nOn the day of the Kyoto Goodwill Event, Gojo meets up with the other faculty to watch the event. As the event starts, Gojo watches it through monitors with the other faculties. When intruders invade the site, Gojo heads over to the site along with Utahime and Yoshinobu. He decides to handle Juzo first, and easily manages to restrain him. Gojo then uses a Hollow Purple technique on Hanami, but they cannot tell for sure if he is killed. As a result, Satoru is widely respected by sorcerers and holds high influence in the sorcery world. He convinces his superiors at the college to keep Yuji Itadori alive until he consumes all of Sukuna\\'s fingers. He teaches Yuji, Megumi Fushiguro, and Nobara Kugisaki.\\nAfterwards, the manga explores Gojo\\'s past. When he and Geto were both sophomores, they were assigned to escort the Star Plasma Vessel Riko Amanai, who was to merge with the immortal sorcerer, Tengen. When the merging was to take place, they are attacked by mercenary Toji Fushiguro, who defeats the two and kills Riko. As Gojo recovers and kills Toji, Geto begins doubting his duties as a sorcerer, and, having grown annoyed of protecting non-sorcerers, vows to break the cycle and kill every non-sorcerer to prevent the birth of more cursed spirits. He escapes from the school and massacres a village with his powers. Gojo confronts Geto about his crimes, but is unable to kill him and lets him go.\\nHe was ambushed by the Special Grade Cursed Spirits at Shibuya, and Kenjaku manages to seal him away in the Prison Realm, after he exorcised Hanami. Nevertheless, Gojo has Yuta take the favor of protecting Yuji from being executed should something bad happen to him. Towards the end of the Culling Games, his students successfully release him from the Prison Realm and he immediately challenges Megumi, Sukuna\\'s current host, to a duel on Christmas Eve. After several exchanges, Gojo nearly wins but is killed by Sukuna and finds himself talking with Geto and his other late friends. His corpse is later used by Yuta to aid Yuji in fighting and defeating Sukuna.\\n\\nReception\\nPopularity\\nSatoru Gojo was well received by the series\\' readers and critics. In a Viz Media popularity poll taken in March 2021, he was voted the most popular character in the franchise. At the 5th Crunchyroll Anime Awards, Gojo was a nominee for best male character, while his fight against Ryomen Sukuna was noted to be best of the year. Yuichi Nakamura\\'s performance as Gojo was also noted to be one of the best ones. In promoting the movie Jujutsu Kaisen 0, advertisements with Gojo as a dog were made alongside SoftBank Group. In December 2021, Mappa and Shueisha also celebrated Gojo\\'s birthday with PulpFiction Cine finding him as one of the most popular characters from the series while also promoting the movie. In a poll from 2021 by LINE Research, Gojo took the first spot in regards to Jujutsu Kaisen characters. He was also third in the best male character award from Animage\\' 2021 Anime Grand Prix poll behind Yuta Okkotsu from Jujutsu Kaisen 0 and Tengen Uzui from Demon Slayer: Kimetsu no Yaiba. The character attained popularity in Chile when the second season of the anime aired, resulting in fans illustrating Gojo in Universidad del Metro de Santiago.\\nIn August 2024 Gojo won first place on Shueisha\\'s 4th Jujutsu Kaisen character popularity poll, with 113,392 votes.\\n\\nCritical response\\nComic Book Resources regarded Gojo as the 9th most mature character in the series despite his childish personality which is why they found the character highly lovable within the manga\\'s readers. In another article, the same site regarded him as one of the series\\' most dangerous members due to his over-the-top powers that cannot be rivaled by anyone else in the manga. IGN also called Gojo as a fan-favorite character due to the focus of his personality. StudyBreak also noted that Gojo\\'s flamboyant personality often comes across fitting comic relief, citing how he reacts when he thinks Fushiguro is being hit on by a woman as well as how impressive he is shown to be in combat against a serious threat.\\nDespite comparing him to other mentor characters like Kakashi Hatake, All Might or Aizawa, Bleeding Cool said Gojo remains as more likable within this archetype as a result of how \"The character is truly a balance of caring coldness with power that keeps dismissing any serious threats\", particularly for how caring he is to his students and the might he shows in battle sequences. An article about the character\\'s best ten fight scenes was also written by Comic Book Resources with his fight against Jogo, being not only the best rated fight he has been involved, but also the series\\' best fight. Like Comic Book Resources, Anime News Network praised the fight scene Gojo has against Jogo for the handling of visuals, finding it far superior than the studio\\'s previous work The God of High School referred by the staff as \"irredeemable trash\" not only due to the narrative but also pacing in handling Gojo\\'s fight sequence, making the anime adaptation of Jujutsu Kaisen develop its potential in the process. While still finding Gojo as an archetype due to the overpowered he is portrayed as, the reviewer still found him enjoyable personality-wise.\\nThe Mary Sue found Gojo\\'s characterization in Jujutsu Kaisen 0 identical to the main series as a result of how he trains the students but still found the pilot helped to further explore his past as a result of his tragic relationship with Geto. Crunchyroll listed Gojo\\'s higher screen time in the animated film adaptation of the manga, citing him as a fan favorite character people would appreciate to see. The character\\'s connection with the late Sugawara no Michizane was kept vague that might generate a future impact in the series by critics especially when Yuta Okkotsu reappears in Jujutsu Kaisen and wonders about their relationship to Suguwara. Otaquest also noted the similarities as well as how important is the relationship between Gojo and Geto which ends in a way that surprised the main series\\' readers. Manga News looked forward to more focus about the relationship between Gojo and Geto. The eventual exploration of Gojo and Geto\\'s youth in the second season of the anime received the praise by IGN for their dynamic though the site found the former\\'s powers too complicated to explain and that Geto appeared to be more important to see in such arc. Gojo\\'s character has been popular in social focus. Following the anime adaptation of the flashbacks to Geto and Gojo\\'s youth, Polygon\\'s Ana Diaz noticed there were several fans who made dōjinshi stories with them which went viral.\\nThe twist of the manga chapter involving Gojo\\'s death led to manga artist Kenjiro Hata go on a hiatus from writing the manga Fly Me to the Moon due to the need of recovering from the \"shocking\" event. According to IGN, Akutami received death threats over the death of Gojo which came across as a shocking event to several manga readers. In September 2023, leaks of the manga\\'s 236th chapter cause a major controversy online within fans of the series. The contents of the chapter surprised fans so much that they took to social media to react to the new development. At time of publication, the \"#GojoSatoru\" hashtag was trending on X with more than 11,400 posts. Comic Book Resources had mixed opinions about Gojo\\'s death, praising the event for the major impact it resulted in the entire narrative since nearly most of the surviving characters watching his death were his students but still felt like Akutami was trying too hard to make Jujutsu Kaisen a dark series by killing several characters in the Shinjuku arc. Gojo\\'s death despite his confidence when confronting Sukuna and Kenjaku became famous in social media due to the ironic result. Once the series ended, GameRant praised both Gojo and Yuta\\'s characters as the writer noted they overshadowed the actual main character of the series, Yuji.\\nThe character has often been compared with Killua Zoldyck from Hunter × Hunter due to physical and personality similarities. When Mariya Ise was cast to portray the younger Gojo in a flashback from the anime\\'s second season, Hindustan Times said the \"meme came to life\" as Ise was also popular for voicing Killua and fans were happy with such casting.\\n\\nAwards\\n\\n\\n== References =='"
      ]
     },
     "execution_count": 56,
     "metadata": {},
     "output_type": "execute_result"
    }
   ],
   "source": [
    "doc"
   ]
  },
  {
   "cell_type": "code",
   "execution_count": 15,
   "id": "1b81bef5-ce1f-4582-9e2f-54410e21cbdd",
   "metadata": {},
   "outputs": [
    {
     "name": "stdout",
     "output_type": "stream",
     "text": [
      "-----------------------------------------------------------------\n",
      "Satoru Gojo (Japanese: 五条 悟, Hepburn: Gojō Satoru) is a character from Gege Akutami's manga Jujutsu\n",
      "Kaisen. He was first introduced in Akutami's short series Tokyo Metropolitan Curse Technical School\n",
      "as the mentor of the cursed teenager Yuta Okkotsu at Tokyo Prefectural Jujutsu High School. This\n",
      "miniseries became the prequel Jujutsu Kaisen 0 of Jujutsu Kaisen. In Jujutsu Kaisen, Gojo takes the\n",
      "same role but mentors the student Yuji Itadori who suffers a similar Curse, helping him become\n",
      "stronger while protecting other characters in the series. Gojo was designed by Akutami to be a\n",
      "formidable yet endearing figure who is passionate about his students. He is voiced by Yūichi\n",
      "Nakamura in Japanese and Kaiji Tang in English in the animated adaptations by MAPPA. The character\n",
      "was well-received by the media for his carefree nature and power shown when protecting his students,\n",
      "becoming the series's breakout character. Furthermore, his role in the prequel Jujutsu Kaisen 0 was\n",
      "appreciated by the media due to his hidden traits, such as his relationship with the antagonist\n",
      "Suguru Geto.\n",
      "-----------------------------------------------------------------\n",
      "-----------------------------------------------------------------\n",
      "Creation and conception Gege Akutami intended for Gojo to be one of the strongest characters in the\n",
      "entire series, but at the same time easy to understand to readers. One of Gojo's key ideas for his\n",
      "design is a blindfold he can see through thanks to his supernatural powers. His bright-blue eyes\n",
      "endowed to him from birth, the Six Eyes, bear extrasensory powers, granting him the heightened\n",
      "ability to see, read, and manipulate Cursed energy, as well as amplify his own technique, Limitless.\n",
      "In his debut in Jujutsu Kaisen 0, Akutami linked Gojo and Yuta Okkotsu to Michizane Sugawara, a\n",
      "famous figure in Japanese history, which he described as the source of both characters' supernatural\n",
      "powers. This was done as a tribute to his late editor, Yamanaka. Gojo's design is intended to be one\n",
      "of a handsome man, often called bishonen. His facial design was inspired by a major Naruto character\n",
      "whose face was covered in bandages. In regards to Gojo's relationship with his students, most\n",
      "notably Yuji Itadori and Yuta Okkotsu, Akutami wrote their relationship simply, as he claims Gojo\n",
      "only wants troublemakers like them to become strong. Despite the common Japanese custom of calling\n",
      "others by their last names, Gojo refers to each of his students by their first names. Akutami said\n",
      "he made this decision because he thought that Gojo did not have proper considerations for such\n",
      "social traditions. Sunghoo Park, who directed the first season of the series' anime adaptation as\n",
      "well as the new prequel movie, said adapting one of Gojo's early scenes involving the Domain\n",
      "Expansion scene in the season was particularly tough to get just right. Nevertheless, he saw the\n",
      "sequence as memorable. Since the original scene was black-and-white, Park and his team consulted\n",
      "Akutami for guidance on color design from Gojo's Domain Expansion. In regards to the animated movie,\n",
      "Park stated that, while \"the highlight of the movie is of course, the story of Okkotsu and Rika as\n",
      "the main characters of Jujutsu Kaisen 0\", he also wanted to focus on more characters from the manga,\n",
      "most notably of which being the past relationship between Gojo and Geto, which was explored briefly\n",
      "in the original manga. Seko was requested by the director to feature a new fight scene between Gojo\n",
      "and Miguel in the climax. The song \"Where Our Blue Is\" by Tatsuya Kitani, which acts as the opening\n",
      "of the anime's second season, deals with the youth of Gojo and Geto with an emphasis on blue\n",
      "backgrounds. The opening contrasts the ending theme \"Light\", which uses a more relaxed melody while\n",
      "emphasizing Gojo and Geto's friendship.\n",
      "-----------------------------------------------------------------\n",
      "-----------------------------------------------------------------\n",
      "Casting Yuichi Nakamura voices the character Satoru Gojo in the original Japanese series. From\n",
      "serious scenes to comical gag scenes, Gojo has different facial expressions, but since he played\n",
      "without restrictions on the swing range between on and off, Nakamura reiterated at the recording\n",
      "site that he enjoyed gags. The actor did not find a change in Gojo's characterization, finding his\n",
      "mentoring of Yuta similar to the other protagonists from the main Jujutsu Kaisen series. He enjoyed\n",
      "the multiple recording sessions he had, as well as the many school-like relationships. He was\n",
      "impressed by Megumi Ogata's work as Yuta for providing him with a large range of emotions. Mariya\n",
      "Ise voiced the younger Gojo in a flashback from the anime. For the anime's second season Nakamura\n",
      "claims he suffered struggles in properly portraying Gojo due to the two story arcs depicting the\n",
      "same character with different quirks and personality as a result of his age; While people do not\n",
      "change their voices too much over a decade, Nakamura aimed to make Gojo different in the two story\n",
      "arcs from season 2. The voice actor was impressed by the animation studio of Mappa which allowed his\n",
      "character to have more facial expressions which resulted in more direction from his superiors. Kaiji\n",
      "Tang voices the character in English. Tang described him as \"the trolliest trolls to ever troll\n",
      "anime.\" The actor noted that the character stands out due to his whimsical nature and how he\n",
      "interacts with his students. He was also praised for how likeable he comes across, due to the kind\n",
      "nature he portrays in the series with a dark narrative while simultaneously showing interesting\n",
      "supernatural powers. Tang still noted that Gojo's arrogance was his only weak point, which also\n",
      "makes him come across as more human. In another interview, Tang compared Gojo to the comic book\n",
      "character Clark Kent, and believed the charm behind the character was that, despite his age, Gojo\n",
      "acts like a spoiled child. Before dubbing Gojo, Tang had not read the Jujutsu Kaisen manga but had\n",
      "heard of it. When being cast, Tang did research by reading the manga. When first interacting with\n",
      "Yuji Itadori, Gojo is noted to see a rarely-explored darker side of his personality due to how he\n",
      "thinks of the idea of killing a cursed teenager, which leads him to see more arrogance in Gojo. In\n",
      "contrast to his previous works like Gearless Joe from Megalobox or Archer from Fate/stay night, Tang\n",
      "feels that Gojo looks at the world in a more childish way than his previous characters as, while\n",
      "Gojo has seen several challenges in his past, none of them made a major impact on him. In order to\n",
      "lipsynch the character, Tang ended adlibing, resulting in Gojo swearing when confronting Jogo.\n",
      "-----------------------------------------------------------------\n",
      "-----------------------------------------------------------------\n",
      "Appearances Jujutsu Kaisen 0 A sorcerer working as a teacher at Tokyo Prefectural Jujutsu High\n",
      "School. He holds the self-proclaimed title 'The Strongest'; most allies and enemies alike never\n",
      "actually dispute the title and generally consider him to be one of the most dangerous people alive.\n",
      "In the events of Jujutsu Kaisen 0, Gojo recruits Yuta Okkotsu, a high school student, accompanied by\n",
      "his Curse Spirit, Rika Orimoto, and convinces him to join Jujutsu High. During this time, Gojo makes\n",
      "Yuta train with the previous year students, Panda, Maki Zenin, and Toge Inumaki, to help Yuta\n",
      "control his curse and develop friendships. Yuta's curse attracts Suguru Geto, a previous student at\n",
      "Jujutsu High and an old friend of Gojo. Geto seeks Yuta's curse and wishes to create a shaman-only\n",
      "world. Geto is gravely injured after his fight with Okkotsu and is later executed by Gojo. Gojo then\n",
      "helps Yuta understand the true nature of his curse and powers.\n",
      "-----------------------------------------------------------------\n",
      "-----------------------------------------------------------------\n",
      "Jujutsu Kaisen On the day of the Kyoto Goodwill Event, Gojo meets up with the other faculty to watch\n",
      "the event. As the event starts, Gojo watches it through monitors with the other faculties. When\n",
      "intruders invade the site, Gojo heads over to the site along with Utahime and Yoshinobu. He decides\n",
      "to handle Juzo first, and easily manages to restrain him. Gojo then uses a Hollow Purple technique\n",
      "on Hanami, but they cannot tell for sure if he is killed. As a result, Satoru is widely respected by\n",
      "sorcerers and holds high influence in the sorcery world. He convinces his superiors at the college\n",
      "to keep Yuji Itadori alive until he consumes all of Sukuna's fingers. He teaches Yuji, Megumi\n",
      "Fushiguro, and Nobara Kugisaki. Afterwards, the manga explores Gojo's past. When he and Geto were\n",
      "both sophomores, they were assigned to escort the Star Plasma Vessel Riko Amanai, who was to merge\n",
      "with the immortal sorcerer, Tengen. When the merging was to take place, they are attacked by\n",
      "mercenary Toji Fushiguro, who defeats the two and kills Riko. As Gojo recovers and kills Toji, Geto\n",
      "begins doubting his duties as a sorcerer, and, having grown annoyed of protecting non-sorcerers,\n",
      "vows to break the cycle and kill every non-sorcerer to prevent the birth of more cursed spirits. He\n",
      "escapes from the school and massacres a village with his powers. Gojo confronts Geto about his\n",
      "crimes, but is unable to kill him and lets him go. He was ambushed by the Special Grade Cursed\n",
      "Spirits at Shibuya, and Kenjaku manages to seal him away in the Prison Realm, after he exorcised\n",
      "Hanami. Nevertheless, Gojo has Yuta take the favor of protecting Yuji from being executed should\n",
      "something bad happen to him. Towards the end of the Culling Games, his students successfully release\n",
      "him from the Prison Realm and he immediately challenges Megumi, Sukuna's current host, to a duel on\n",
      "Christmas Eve. After several exchanges, Gojo nearly wins but is killed by Sukuna and finds himself\n",
      "talking with Geto and his other late friends. His corpse is later used by Yuta to aid Yuji in\n",
      "fighting and defeating Sukuna.\n",
      "-----------------------------------------------------------------\n",
      "-----------------------------------------------------------------\n",
      "Reception Popularity Satoru Gojo was well received by the series' readers and critics. In a Viz\n",
      "Media popularity poll taken in March 2021, he was voted the most popular character in the franchise.\n",
      "At the 5th Crunchyroll Anime Awards, Gojo was a nominee for best male character, while his fight\n",
      "against Ryomen Sukuna was noted to be best of the year. Yuichi Nakamura's performance as Gojo was\n",
      "also noted to be one of the best ones. In promoting the movie Jujutsu Kaisen 0, advertisements with\n",
      "Gojo as a dog were made alongside SoftBank Group. In December 2021, Mappa and Shueisha also\n",
      "celebrated Gojo's birthday with PulpFiction Cine finding him as one of the most popular characters\n",
      "from the series while also promoting the movie. In a poll from 2021 by LINE Research, Gojo took the\n",
      "first spot in regards to Jujutsu Kaisen characters. He was also third in the best male character\n",
      "award from Animage' 2021 Anime Grand Prix poll behind Yuta Okkotsu from Jujutsu Kaisen 0 and Tengen\n",
      "Uzui from Demon Slayer: Kimetsu no Yaiba. The character attained popularity in Chile when the second\n",
      "season of the anime aired, resulting in fans illustrating Gojo in Universidad del Metro de Santiago.\n",
      "In August 2024 Gojo won first place on Shueisha's 4th Jujutsu Kaisen character popularity poll, with\n",
      "113,392 votes.\n",
      "-----------------------------------------------------------------\n",
      "-----------------------------------------------------------------\n",
      "Critical response Comic Book Resources regarded Gojo as the 9th most mature character in the series\n",
      "despite his childish personality which is why they found the character highly lovable within the\n",
      "manga's readers. In another article, the same site regarded him as one of the series' most dangerous\n",
      "members due to his over-the-top powers that cannot be rivaled by anyone else in the manga. IGN also\n",
      "called Gojo as a fan-favorite character due to the focus of his personality. StudyBreak also noted\n",
      "that Gojo's flamboyant personality often comes across fitting comic relief, citing how he reacts\n",
      "when he thinks Fushiguro is being hit on by a woman as well as how impressive he is shown to be in\n",
      "combat against a serious threat. Despite comparing him to other mentor characters like Kakashi\n",
      "Hatake, All Might or Aizawa, Bleeding Cool said Gojo remains as more likable within this archetype\n",
      "as a result of how \"The character is truly a balance of caring coldness with power that keeps\n",
      "dismissing any serious threats\", particularly for how caring he is to his students and the might he\n",
      "shows in battle sequences. An article about the character's best ten fight scenes was also written\n",
      "by Comic Book Resources with his fight against Jogo, being not only the best rated fight he has been\n",
      "involved, but also the series' best fight. Like Comic Book Resources, Anime News Network praised the\n",
      "fight scene Gojo has against Jogo for the handling of visuals, finding it far superior than the\n",
      "studio's previous work The God of High School referred by the staff as \"irredeemable trash\" not only\n",
      "due to the narrative but also pacing in handling Gojo's fight sequence, making the anime adaptation\n",
      "of Jujutsu Kaisen develop its potential in the process. While still finding Gojo as an archetype due\n",
      "to the overpowered he is portrayed as, the reviewer still found him enjoyable personality-wise. The\n",
      "Mary Sue found Gojo's characterization in Jujutsu Kaisen 0 identical to the main series as a result\n",
      "of how he trains the students but still found the pilot helped to further explore his past as a\n",
      "result of his tragic relationship with Geto. Crunchyroll listed Gojo's higher screen time in the\n",
      "animated film adaptation of the manga, citing him as a fan favorite character people would\n",
      "appreciate to see. The character's connection with the late Sugawara no Michizane was kept vague\n",
      "that might generate a future impact in the series by critics especially when Yuta Okkotsu reappears\n",
      "in Jujutsu Kaisen and wonders about their relationship to Suguwara. Otaquest also noted the\n",
      "similarities as well as how important is the relationship between Gojo and Geto which ends in a way\n",
      "that surprised the main series' readers. Manga News looked forward to more focus about the\n",
      "relationship between Gojo and Geto. The eventual exploration of Gojo and Geto's youth in the second\n",
      "season of the anime received the praise by IGN for their dynamic though the site found the former's\n",
      "powers too complicated to explain and that Geto appeared to be more important to see in such arc.\n",
      "Gojo's character has been popular in social focus. Following the anime adaptation of the flashbacks\n",
      "to Geto and Gojo's youth, Polygon's Ana Diaz noticed there were several fans who made dōjinshi\n",
      "stories with them which went viral. The twist of the manga chapter involving Gojo's death led to\n",
      "manga artist Kenjiro Hata go on a hiatus from writing the manga Fly Me to the Moon due to the need\n",
      "of recovering from the \"shocking\" event. According to IGN, Akutami received death threats over the\n",
      "death of Gojo which came across as a shocking event to several manga readers. In September 2023,\n",
      "leaks of the manga's 236th chapter cause a major controversy online within fans of the series. The\n",
      "contents of the chapter surprised fans so much that they took to social media to react to the new\n",
      "development. At time of publication, the \"#GojoSatoru\" hashtag was trending on X with more than\n",
      "11,400 posts. Comic Book Resources had mixed opinions about Gojo's death, praising the event for the\n",
      "major impact it resulted in the entire narrative since nearly most of the surviving characters\n",
      "watching his death were his students but still felt like Akutami was trying too hard to make Jujutsu\n",
      "Kaisen a dark series by killing several characters in the Shinjuku arc. Gojo's death despite his\n",
      "confidence when confronting Sukuna and Kenjaku became famous in social media due to the ironic\n",
      "result. Once the series ended, GameRant praised both Gojo and Yuta's characters as the writer noted\n",
      "they overshadowed the actual main character of the series, Yuji. The character has often been\n",
      "compared with Killua Zoldyck from Hunter × Hunter due to physical and personality similarities. When\n",
      "Mariya Ise was cast to portray the younger Gojo in a flashback from the anime's second season,\n",
      "Hindustan Times said the \"meme came to life\" as Ise was also popular for voicing Killua and fans\n",
      "were happy with such casting.\n",
      "-----------------------------------------------------------------\n",
      "-----------------------------------------------------------------\n",
      "Awards\n",
      "-----------------------------------------------------------------\n",
      "-----------------------------------------------------------------\n",
      " == References ==\n",
      "-----------------------------------------------------------------\n"
     ]
    }
   ],
   "source": [
    "import textwrap\n",
    "for i, p in enumerate(paragraphs):\n",
    "  wrapped_text = textwrap.fill(p, width=100)\n",
    "\n",
    "  print(\"-----------------------------------------------------------------\")\n",
    "  print(wrapped_text)\n",
    "  print(\"-----------------------------------------------------------------\")"
   ]
  },
  {
   "cell_type": "code",
   "execution_count": 64,
   "id": "30c3b16a-7a27-4727-bbd2-58d8fe3b13fb",
   "metadata": {},
   "outputs": [],
   "source": [
    "docs_embed = SEmodel.encode(paragraphs, normalize_embeddings=True)"
   ]
  },
  {
   "cell_type": "code",
   "execution_count": 65,
   "id": "033e3a11-f53e-4910-b6ff-3e75cc271f77",
   "metadata": {},
   "outputs": [
    {
     "data": {
      "text/plain": [
       "(9, 768)"
      ]
     },
     "execution_count": 65,
     "metadata": {},
     "output_type": "execute_result"
    }
   ],
   "source": [
    "docs_embed.shape"
   ]
  },
  {
   "cell_type": "code",
   "execution_count": 68,
   "id": "cc3e2f97-bc82-4703-939f-f504302c8a7f",
   "metadata": {},
   "outputs": [
    {
     "data": {
      "text/plain": [
       "array([ 3.28321829e-02, -1.73554085e-02,  2.44257087e-03, -4.31342376e-03,\n",
       "       -4.27367613e-02,  7.42530217e-03,  1.54507328e-02, -7.22436560e-03,\n",
       "        1.08024487e-02, -2.15968098e-02, -1.09680174e-02, -1.27828838e-02,\n",
       "        1.42038232e-02,  6.08282834e-02,  3.18820998e-02,  3.44335400e-02,\n",
       "       -4.00627404e-02, -4.91126217e-02, -1.85463596e-02, -1.31067261e-02,\n",
       "       -9.89671331e-03, -3.09945922e-02, -2.03995351e-02, -3.58905867e-02,\n",
       "       -1.87303480e-02,  2.95224469e-02, -5.24713993e-02,  8.17153454e-02,\n",
       "        1.60831977e-02, -5.10793701e-02,  2.85787694e-02,  1.47317573e-02,\n",
       "        1.64737576e-03, -1.30452290e-02,  1.94885209e-02, -3.40623409e-02,\n",
       "       -4.85156626e-02,  2.62024049e-02, -3.06329615e-02, -2.36394592e-02,\n",
       "       -1.90322157e-02,  5.59457876e-02, -5.22277951e-02,  2.08166912e-02,\n",
       "       -3.78269553e-02,  4.52065989e-02, -2.81005241e-02, -3.61495861e-03,\n",
       "       -1.65178459e-02, -6.69185817e-02, -4.94142883e-02, -5.34475818e-02,\n",
       "       -1.24388086e-02, -6.48671621e-03, -2.80964188e-03,  1.07871639e-02,\n",
       "        7.52074346e-02,  3.76822650e-02, -1.90707166e-02,  2.07740739e-02,\n",
       "       -1.01966532e-02, -2.45028473e-02,  1.68267470e-02,  9.25740751e-04,\n",
       "        2.21142713e-02, -2.84118224e-02, -2.80724801e-02, -2.27679349e-02,\n",
       "       -1.75673403e-02, -6.13309210e-03,  3.17146108e-02, -3.49918008e-02,\n",
       "        5.12371473e-02, -3.23372036e-02,  3.55673246e-02, -2.55861674e-02,\n",
       "        1.99342724e-02,  4.86969016e-03, -2.59183589e-02, -7.81429093e-03,\n",
       "        1.74414162e-02,  3.27068157e-02,  1.43800164e-04, -2.76753958e-02,\n",
       "       -2.86473893e-02,  4.21027727e-02, -2.96061207e-03, -3.11811324e-02,\n",
       "        9.67882480e-03,  6.08458705e-02, -5.13441712e-02,  2.72036940e-02,\n",
       "        2.06558630e-02, -4.24187444e-02, -3.09713930e-02,  8.76842905e-03,\n",
       "        2.95413062e-02, -6.76402599e-02, -2.15527620e-02, -3.96926850e-02,\n",
       "        3.48765664e-02,  1.82825625e-02,  3.73246036e-02,  2.83876378e-02,\n",
       "       -7.44495727e-03,  1.40964631e-02, -5.20491377e-02, -1.52346808e-02,\n",
       "        2.25813258e-02,  1.91276576e-02, -4.15349379e-02, -5.16794436e-03,\n",
       "        1.77858844e-02, -1.83813740e-02, -3.96710895e-02,  7.89245032e-03,\n",
       "        3.45624946e-02,  2.67058471e-03,  1.85151286e-02, -4.19327952e-02,\n",
       "       -5.18543739e-03, -2.79501937e-02,  5.39031737e-02, -7.67882727e-03,\n",
       "        1.84531286e-02, -4.07213122e-02,  2.04337798e-02, -2.58545913e-02,\n",
       "        3.05782128e-02, -3.56975794e-02,  1.91761460e-02,  1.96214393e-02,\n",
       "        3.26262005e-02,  2.75796223e-02, -3.31085660e-02, -1.37032997e-02,\n",
       "        4.55330759e-02, -2.18512174e-02,  3.64238098e-02, -1.40969437e-02,\n",
       "       -3.11542358e-02, -1.28370645e-02, -1.61247945e-03,  7.79676512e-02,\n",
       "       -3.81869636e-02,  7.00719059e-02, -2.27010921e-02,  4.32914421e-02,\n",
       "       -1.05713028e-02, -4.66577373e-02, -1.57214645e-02,  3.04173697e-02,\n",
       "       -2.36237179e-02,  3.37597691e-02, -3.61520164e-02, -4.66260985e-02,\n",
       "        9.31131989e-02,  9.90692526e-02, -7.60973021e-02, -1.30094616e-02,\n",
       "       -4.31108028e-02,  8.50231107e-03,  2.02576350e-02,  4.78448085e-02,\n",
       "       -7.58933602e-03, -1.59964692e-02, -2.62745880e-02,  1.27774850e-02,\n",
       "       -3.61952707e-02,  4.02325280e-02,  1.24385143e-02, -3.33034210e-02,\n",
       "        2.46748757e-02, -8.47557476e-06, -5.57551086e-02,  5.00067696e-03,\n",
       "       -2.44328547e-02, -1.81165002e-02,  4.49991077e-02,  3.22264023e-02,\n",
       "       -2.04616431e-02,  2.09864811e-03,  1.57372914e-02, -5.44780977e-02,\n",
       "        2.33263653e-02,  1.86108630e-02, -9.91664082e-03, -1.01604596e-01,\n",
       "        1.04224384e-02,  4.17800508e-02,  1.19400499e-02,  1.11206733e-02,\n",
       "       -7.39239305e-02, -1.22266114e-02, -5.37664536e-03, -3.94404866e-02,\n",
       "        8.16884544e-03, -4.46398668e-02, -1.47591978e-02, -1.63363833e-02,\n",
       "       -6.24930561e-02,  9.46015678e-03, -3.43741998e-02,  3.57675813e-02,\n",
       "        5.20235710e-02, -2.20575687e-02, -2.59293281e-02, -3.09071057e-02,\n",
       "        4.52235676e-02, -1.44407554e-02,  7.55572366e-03,  1.40361162e-02,\n",
       "       -2.56775282e-02,  2.29989961e-02,  3.39315943e-02, -5.55385835e-02,\n",
       "       -4.49194852e-03, -6.75856043e-03,  6.43456494e-03,  3.91940288e-02,\n",
       "       -3.27332988e-02,  3.97561416e-02, -2.57129464e-02, -3.78614338e-03,\n",
       "        1.60160474e-02, -4.94440924e-03, -1.43656451e-02, -1.74470544e-02,\n",
       "        2.05655070e-03,  4.33329344e-02, -1.10754222e-02, -5.30606434e-02,\n",
       "       -1.44049560e-03, -1.15848808e-02,  7.57535994e-02,  5.14046550e-02,\n",
       "       -3.32458392e-02,  1.53741445e-02, -2.05974691e-02, -3.15335505e-02,\n",
       "        1.40562886e-02, -1.17232604e-02,  4.91511300e-02,  8.86238180e-03,\n",
       "       -1.40243042e-02, -2.85494402e-02,  1.43849454e-03, -1.49235583e-03,\n",
       "       -4.71404195e-03, -3.68657969e-02, -6.62671542e-03, -5.02578318e-02,\n",
       "       -2.78743356e-02, -5.41298017e-02, -1.22378906e-02,  7.82060903e-03,\n",
       "        3.92209273e-03, -1.93059035e-02,  4.42580180e-03, -1.19725056e-02,\n",
       "       -2.60767564e-02, -1.77777186e-02, -1.39025748e-02, -5.23619470e-04,\n",
       "        6.50887415e-02,  1.14240954e-02,  1.00721329e-01,  1.07496988e-03,\n",
       "        5.83167337e-02,  1.95593573e-03,  3.81752588e-02,  1.72021724e-02,\n",
       "       -5.55746183e-02, -4.15642411e-02, -8.13086145e-03,  2.53793038e-02,\n",
       "       -4.88551110e-02, -3.74354236e-02,  2.98185870e-02,  2.02367697e-02,\n",
       "        9.58733540e-03,  1.30415587e-02,  3.65959555e-02, -2.05004755e-02,\n",
       "        3.67535166e-02,  3.35449241e-02,  1.83513258e-02,  3.35037299e-02,\n",
       "       -3.55848633e-02,  3.83890271e-02,  2.36673001e-02, -4.66489233e-03,\n",
       "        9.39520076e-03, -3.40440124e-02, -2.50655282e-02, -3.44247371e-02,\n",
       "       -1.39401909e-02,  2.40155756e-02, -8.41611344e-03,  1.58059988e-02,\n",
       "       -2.49705054e-02,  8.12245347e-03, -3.62709761e-02,  8.84678122e-03,\n",
       "        2.21654195e-02, -1.84113421e-02, -4.69552763e-02, -4.96806018e-02,\n",
       "       -1.40746133e-02, -1.65653545e-02,  4.26044352e-02,  4.99695018e-02,\n",
       "        2.99082696e-02, -1.44145181e-02,  1.27519602e-02, -5.65629825e-02,\n",
       "        6.88818225e-04,  8.08595505e-04, -4.33386341e-02,  4.80776513e-03,\n",
       "        3.17683369e-02, -6.96243718e-02, -2.30689589e-02,  4.11895337e-03,\n",
       "       -5.40073924e-02, -1.10898213e-02,  3.00133806e-02,  3.02547291e-02,\n",
       "       -7.97358677e-02,  6.22710213e-02,  2.18661167e-02,  5.74926324e-02,\n",
       "        2.91793998e-02,  2.92892708e-03, -6.76041767e-02,  2.07760073e-02,\n",
       "       -4.06025834e-02,  7.28744874e-03,  1.93276126e-02, -1.40587837e-02,\n",
       "        5.59092164e-02, -1.23201860e-02, -9.29621607e-03,  6.79020807e-02,\n",
       "       -2.38592084e-02, -1.10122776e-02,  3.37205902e-02, -7.41917407e-03,\n",
       "       -2.63749138e-02,  5.35617545e-02, -2.39440333e-02, -1.79256555e-02,\n",
       "        6.06968999e-02, -2.22240407e-02,  1.61905983e-03,  1.03734783e-03,\n",
       "        1.20225325e-02,  1.24975946e-03,  3.42605487e-02,  1.45032303e-02,\n",
       "        7.68609392e-03, -3.42257950e-03,  3.33364052e-03, -2.94050761e-02,\n",
       "        5.27487993e-02, -1.27557600e-02,  1.04600741e-02, -6.96446523e-02,\n",
       "        1.89138856e-02,  2.07983493e-03,  9.31576826e-03,  1.66341793e-02,\n",
       "       -5.08542918e-03, -2.05567572e-02,  7.73246808e-04, -2.99997744e-03,\n",
       "       -2.85669230e-02, -2.76153767e-03,  5.88404685e-02, -8.21962953e-03,\n",
       "       -6.12361543e-03, -4.96625789e-02,  5.74500859e-02, -2.03097202e-02,\n",
       "       -4.01289240e-02,  7.88948238e-02, -8.98583513e-03, -4.47955392e-02,\n",
       "       -2.29893327e-02,  1.97607372e-02,  3.43353674e-02,  8.23240168e-03,\n",
       "       -1.88367702e-02,  1.31364018e-02, -1.63865555e-02,  3.71564254e-02,\n",
       "        1.91764086e-02,  1.74719375e-03,  6.08863716e-04,  8.43441056e-04,\n",
       "        3.05841584e-02,  6.95068343e-03, -5.64721273e-03,  1.40492674e-02,\n",
       "        1.94644835e-02,  1.48836775e-02, -4.48792055e-03,  5.01736701e-02,\n",
       "        1.93625409e-02, -4.67049666e-02, -7.10269343e-03, -2.52517452e-03,\n",
       "       -2.14760453e-02, -1.84065029e-02,  4.96893041e-02, -3.14276330e-02,\n",
       "       -2.84879543e-02, -5.25284326e-03,  2.86401119e-02, -5.69240227e-02,\n",
       "        4.04375680e-02,  2.93807685e-02, -2.50261687e-02,  1.44225471e-02,\n",
       "        2.69844476e-02, -4.55193073e-02,  2.88216379e-02, -2.94850543e-02,\n",
       "       -4.14588675e-02, -1.21367937e-02,  2.07385775e-02,  3.53157520e-02,\n",
       "        1.41712381e-02, -3.91733386e-02,  8.23398679e-03, -1.82496682e-02,\n",
       "        5.56788221e-03,  4.07560654e-02,  1.07341921e-02, -1.31157180e-03,\n",
       "       -3.13863456e-02, -1.34274913e-02, -1.50773115e-02,  1.50995040e-02,\n",
       "       -1.88543927e-02, -4.33072634e-02,  2.20230930e-02, -1.04961935e-02,\n",
       "       -2.17704917e-03,  3.46087366e-02, -3.44348177e-02, -5.11870421e-02,\n",
       "        2.37794546e-03,  1.14065632e-02,  1.16835898e-02,  2.54795165e-03,\n",
       "        3.65253575e-02,  3.06732226e-02,  2.70449021e-03,  3.55280330e-03,\n",
       "       -3.27499658e-02, -9.09627229e-03, -4.26170602e-03, -3.56559567e-02,\n",
       "        1.64916608e-02, -1.45018182e-03,  2.52811015e-02,  1.83107071e-02,\n",
       "        3.25957462e-02,  1.17462212e-02,  3.73738781e-02, -1.31838992e-02,\n",
       "        7.54655106e-03, -2.87316181e-02, -1.62558630e-02, -4.80820462e-02,\n",
       "        3.33451033e-02,  5.38816750e-02,  6.26741499e-02, -2.91725174e-02,\n",
       "        3.13248783e-02, -1.14378426e-02,  2.43328661e-02, -1.59177324e-03,\n",
       "       -6.37632678e-04,  3.44862118e-02, -4.56986949e-02,  6.99696457e-03,\n",
       "        4.56674099e-02,  2.88883168e-02, -5.11979051e-02, -1.47554521e-02,\n",
       "        5.96831329e-02, -4.58380990e-02,  2.80787535e-02, -2.21411102e-02,\n",
       "        1.54853798e-02,  6.93191634e-03, -4.09873109e-03,  1.23958820e-02,\n",
       "        1.68013610e-02, -2.81261466e-02,  1.88077446e-02,  1.36931520e-02,\n",
       "       -5.25014149e-03, -3.72837856e-02,  3.96504719e-03,  1.86477099e-02,\n",
       "       -1.40968170e-02, -1.63458847e-03, -8.93597398e-03, -1.60236489e-02,\n",
       "        4.14039940e-03,  2.05345880e-02, -8.03738076e-04,  3.45606990e-02,\n",
       "        2.02489877e-03, -9.67801511e-02, -3.39057893e-02, -4.25792634e-02,\n",
       "        3.84181142e-02, -2.00700089e-02,  2.60586175e-03,  4.71103229e-02,\n",
       "       -2.74469517e-02, -2.60373466e-02, -8.68713204e-03, -1.45324226e-02,\n",
       "       -6.47068396e-02,  7.50058657e-03,  8.75292346e-04, -3.83161270e-04,\n",
       "        1.23039633e-02, -3.38881314e-02,  5.38692065e-02,  3.31612453e-02,\n",
       "        4.27649207e-02, -4.57299054e-02, -1.41423047e-02, -1.29790315e-02,\n",
       "        5.67797339e-03, -4.64929044e-02,  5.30052781e-02,  1.63038424e-03,\n",
       "        1.67851467e-02,  3.24815288e-02, -3.40865622e-03, -9.99560943e-05,\n",
       "       -2.61811111e-02,  4.39707711e-02, -6.56669214e-02,  1.25237666e-02,\n",
       "       -8.12622160e-02, -9.31629818e-03, -1.77423153e-02, -4.59542722e-02,\n",
       "       -4.61997062e-01, -7.79463397e-03, -8.10467545e-03, -2.44422406e-02,\n",
       "        1.74693372e-02,  1.38489832e-03, -4.44567464e-02, -4.22683991e-02,\n",
       "       -2.67037246e-02, -5.94625473e-02, -1.54467234e-02,  1.86462011e-02,\n",
       "        8.55487585e-03, -2.81892754e-02,  1.75261346e-03,  3.56634194e-03,\n",
       "       -4.63106856e-02, -3.11057102e-02,  1.89132560e-02, -5.14861103e-03,\n",
       "       -1.17393583e-02, -4.05533947e-02, -1.62857317e-03, -6.94145216e-03,\n",
       "        3.59521899e-03,  6.10033376e-03,  2.62697842e-02,  2.06437074e-02,\n",
       "       -2.21381206e-02, -5.57094738e-02, -2.88290791e-02,  3.10986140e-03,\n",
       "       -1.93815213e-03, -2.29893741e-03,  3.25060599e-02,  9.81853828e-02,\n",
       "       -5.63383922e-02,  1.78673081e-02,  3.51571701e-02, -3.41577432e-03,\n",
       "       -4.28079627e-02,  5.18576130e-02,  6.51935115e-02, -7.92311132e-03,\n",
       "       -3.36359106e-02, -2.07578726e-02, -1.25949597e-03, -2.80384766e-03,\n",
       "        3.87483537e-02, -7.08940104e-02, -6.52244734e-03, -2.15817597e-02,\n",
       "       -2.25570668e-02,  5.49463183e-02,  5.97088449e-02,  5.61154485e-02,\n",
       "        2.02508457e-02,  2.65364815e-03, -1.03432089e-02, -8.49621929e-03,\n",
       "       -2.40886044e-02,  1.29489601e-02,  5.03265709e-02, -4.02880367e-03,\n",
       "       -4.88633700e-02,  5.03994189e-02,  1.25083411e-02, -2.03727391e-02,\n",
       "        5.02198562e-03, -2.49683112e-02,  1.19945509e-02, -1.16899032e-02,\n",
       "       -1.23348981e-02, -1.58605818e-02, -2.39355266e-02, -2.55932696e-02,\n",
       "       -9.51402169e-03, -2.02104375e-02, -4.06075530e-02,  1.70346610e-02,\n",
       "       -1.74579527e-02, -2.31290590e-02,  2.27690879e-02, -6.06729798e-02,\n",
       "        2.05035657e-02, -1.03875007e-02, -2.32359655e-02, -4.45778901e-03,\n",
       "       -8.29691254e-03, -5.22054434e-02,  2.11479818e-03,  3.68074700e-02,\n",
       "       -6.44997088e-03, -2.89683677e-02,  2.62450464e-02,  8.05565808e-03,\n",
       "        3.51669639e-02, -1.92786213e-02, -6.40056143e-03, -8.17470253e-03,\n",
       "       -2.74470262e-03, -1.42711885e-02,  2.65712962e-02,  3.28506622e-03,\n",
       "       -4.71812561e-02, -4.19158675e-02,  4.59744036e-03,  2.75164116e-02,\n",
       "       -1.99734289e-02, -5.70002422e-02,  1.63650904e-02, -6.47752173e-03,\n",
       "       -3.16925868e-02,  6.83352863e-03,  7.01753944e-02,  1.33481738e-03,\n",
       "       -2.90320665e-02,  2.82360893e-02,  2.84173470e-02, -3.85208838e-02,\n",
       "       -1.03893166e-03, -1.70131866e-02, -6.29076408e-03,  5.48357144e-02,\n",
       "        2.05016173e-02,  5.57925459e-03, -2.82253139e-02,  3.96757163e-02,\n",
       "        4.38560545e-02,  2.29615513e-02,  2.02101711e-02,  1.32640647e-02,\n",
       "       -2.07799231e-03,  3.00015081e-02,  4.64533232e-02,  3.77047099e-02,\n",
       "       -3.46864834e-02,  4.86576930e-02,  6.23671897e-02,  1.66928489e-02,\n",
       "       -2.99925283e-02,  2.76955757e-02, -2.39909533e-02,  4.99895122e-03,\n",
       "       -9.21705924e-03,  1.36846099e-02, -5.10039972e-03,  1.84303466e-02,\n",
       "       -5.24723995e-03, -2.25446764e-02, -3.70337367e-02,  8.30526128e-02,\n",
       "       -3.45232636e-02, -2.45915335e-02, -1.42058013e-02, -7.52770295e-03,\n",
       "       -6.00544102e-02,  1.82319768e-02,  3.53064784e-03,  2.83098617e-03,\n",
       "       -6.37926012e-02, -1.66001245e-02,  4.47562821e-02, -2.73487084e-02,\n",
       "        2.04838607e-02, -9.49252117e-03,  2.25961544e-02, -4.30036373e-02,\n",
       "        2.94739828e-02, -2.18537301e-02,  2.73688557e-03,  2.65652034e-03,\n",
       "       -5.61228618e-02, -4.73087095e-02,  5.76869026e-02,  1.95581503e-02,\n",
       "       -5.76173812e-02, -1.57835241e-02,  2.05583349e-02, -6.01613596e-02,\n",
       "       -1.98885370e-02,  1.07395649e-02, -2.60764733e-02,  1.28350155e-02,\n",
       "       -3.36243697e-02, -1.01882368e-04, -2.61869133e-02,  5.55293225e-02,\n",
       "        2.04278007e-02,  1.26423882e-02, -1.88329313e-02,  5.54297818e-03,\n",
       "       -4.67205755e-02, -5.95551741e-04, -6.46226928e-02,  1.72256399e-02,\n",
       "        3.42437513e-02, -4.13224055e-03, -3.99251916e-02, -1.59673430e-02,\n",
       "        5.41940564e-03, -6.35646954e-02, -2.01827195e-02,  1.18088555e-02,\n",
       "        1.47863748e-02, -1.12907961e-02,  5.92364892e-02, -3.89047004e-02,\n",
       "       -6.02709465e-02, -9.53293033e-03, -4.29001357e-03, -1.71255190e-02],\n",
       "      dtype=float32)"
      ]
     },
     "execution_count": 68,
     "metadata": {},
     "output_type": "execute_result"
    }
   ],
   "source": [
    "docs_embed[0]"
   ]
  },
  {
   "cell_type": "code",
   "execution_count": 72,
   "id": "82f1553f-2a30-40a3-95ba-77a45bdac7b2",
   "metadata": {},
   "outputs": [],
   "source": [
    "query = \"WHo is gojo\"\n",
    "query_embed = SEmodel.encode(query, normalize_embeddings=True)\n"
   ]
  },
  {
   "cell_type": "code",
   "execution_count": 74,
   "id": "2d8c8cd3-b60b-4906-98cf-dab8f00a393b",
   "metadata": {},
   "outputs": [
    {
     "data": {
      "text/plain": [
       "(768,)"
      ]
     },
     "execution_count": 74,
     "metadata": {},
     "output_type": "execute_result"
    }
   ],
   "source": [
    "query_embed.shape"
   ]
  },
  {
   "cell_type": "code",
   "execution_count": 76,
   "id": "a0239ff0-1b2c-4fa7-bb2e-66aa49fbbb13",
   "metadata": {},
   "outputs": [],
   "source": [
    "import numpy as np\n",
    "similarities = np.dot(docs_embed, query_embed.T)"
   ]
  },
  {
   "cell_type": "code",
   "execution_count": 78,
   "id": "c7eb85cd-a2e1-4a45-8c85-8a39b9bac2cb",
   "metadata": {},
   "outputs": [
    {
     "data": {
      "text/plain": [
       "(9,)"
      ]
     },
     "execution_count": 78,
     "metadata": {},
     "output_type": "execute_result"
    }
   ],
   "source": [
    "similarities.shape"
   ]
  },
  {
   "cell_type": "code",
   "execution_count": 80,
   "id": "7e26a23e-d618-4d66-809b-d85c62943e7e",
   "metadata": {},
   "outputs": [
    {
     "data": {
      "text/plain": [
       "array([0.6789534 , 0.50833523, 0.5587791 , 0.42006588, 0.50006217,\n",
       "       0.5220425 , 0.53133285, 0.19516248, 0.13984874], dtype=float32)"
      ]
     },
     "execution_count": 80,
     "metadata": {},
     "output_type": "execute_result"
    }
   ],
   "source": [
    "similarities"
   ]
  },
  {
   "cell_type": "code",
   "execution_count": 82,
   "id": "8b9c76cc-49c2-4e5e-b13a-51ad58eda23b",
   "metadata": {},
   "outputs": [],
   "source": [
    "top_3_idx = np.argsort(similarities, axis=0)[-3:][::-1].tolist()"
   ]
  },
  {
   "cell_type": "code",
   "execution_count": 84,
   "id": "8482df03-1ae8-4a2f-bd3f-45ce9311a792",
   "metadata": {},
   "outputs": [
    {
     "data": {
      "text/plain": [
       "[0, 2, 6]"
      ]
     },
     "execution_count": 84,
     "metadata": {},
     "output_type": "execute_result"
    }
   ],
   "source": [
    "top_3_idx\n"
   ]
  },
  {
   "cell_type": "code",
   "execution_count": 86,
   "id": "ad6aca51-e9e4-40cb-9639-d82940b80c6d",
   "metadata": {},
   "outputs": [],
   "source": [
    "most_similar_documents = [paragraphs[idx] for idx in top_3_idx]"
   ]
  },
  {
   "cell_type": "code",
   "execution_count": 88,
   "id": "78420eab-8644-4ed0-be19-669f02fa0c92",
   "metadata": {},
   "outputs": [
    {
     "name": "stdout",
     "output_type": "stream",
     "text": [
      "-----------------------------------------------------------------\n",
      "Satoru Gojo (Japanese: 五条 悟, Hepburn: Gojō Satoru) is a character from Gege Akutami's manga Jujutsu\n",
      "Kaisen. He was first introduced in Akutami's short series Tokyo Metropolitan Curse Technical School\n",
      "as the mentor of the cursed teenager Yuta Okkotsu at Tokyo Prefectural Jujutsu High School. This\n",
      "miniseries became the prequel Jujutsu Kaisen 0 of Jujutsu Kaisen. In Jujutsu Kaisen, Gojo takes the\n",
      "same role but mentors the student Yuji Itadori who suffers a similar Curse, helping him become\n",
      "stronger while protecting other characters in the series. Gojo was designed by Akutami to be a\n",
      "formidable yet endearing figure who is passionate about his students. He is voiced by Yūichi\n",
      "Nakamura in Japanese and Kaiji Tang in English in the animated adaptations by MAPPA. The character\n",
      "was well-received by the media for his carefree nature and power shown when protecting his students,\n",
      "becoming the series's breakout character. Furthermore, his role in the prequel Jujutsu Kaisen 0 was\n",
      "appreciated by the media due to his hidden traits, such as his relationship with the antagonist\n",
      "Suguru Geto.\n",
      "-----------------------------------------------------------------\n",
      "-----------------------------------------------------------------\n",
      "Casting Yuichi Nakamura voices the character Satoru Gojo in the original Japanese series. From\n",
      "serious scenes to comical gag scenes, Gojo has different facial expressions, but since he played\n",
      "without restrictions on the swing range between on and off, Nakamura reiterated at the recording\n",
      "site that he enjoyed gags. The actor did not find a change in Gojo's characterization, finding his\n",
      "mentoring of Yuta similar to the other protagonists from the main Jujutsu Kaisen series. He enjoyed\n",
      "the multiple recording sessions he had, as well as the many school-like relationships. He was\n",
      "impressed by Megumi Ogata's work as Yuta for providing him with a large range of emotions. Mariya\n",
      "Ise voiced the younger Gojo in a flashback from the anime. For the anime's second season Nakamura\n",
      "claims he suffered struggles in properly portraying Gojo due to the two story arcs depicting the\n",
      "same character with different quirks and personality as a result of his age; While people do not\n",
      "change their voices too much over a decade, Nakamura aimed to make Gojo different in the two story\n",
      "arcs from season 2. The voice actor was impressed by the animation studio of Mappa which allowed his\n",
      "character to have more facial expressions which resulted in more direction from his superiors. Kaiji\n",
      "Tang voices the character in English. Tang described him as \"the trolliest trolls to ever troll\n",
      "anime.\" The actor noted that the character stands out due to his whimsical nature and how he\n",
      "interacts with his students. He was also praised for how likeable he comes across, due to the kind\n",
      "nature he portrays in the series with a dark narrative while simultaneously showing interesting\n",
      "supernatural powers. Tang still noted that Gojo's arrogance was his only weak point, which also\n",
      "makes him come across as more human. In another interview, Tang compared Gojo to the comic book\n",
      "character Clark Kent, and believed the charm behind the character was that, despite his age, Gojo\n",
      "acts like a spoiled child. Before dubbing Gojo, Tang had not read the Jujutsu Kaisen manga but had\n",
      "heard of it. When being cast, Tang did research by reading the manga. When first interacting with\n",
      "Yuji Itadori, Gojo is noted to see a rarely-explored darker side of his personality due to how he\n",
      "thinks of the idea of killing a cursed teenager, which leads him to see more arrogance in Gojo. In\n",
      "contrast to his previous works like Gearless Joe from Megalobox or Archer from Fate/stay night, Tang\n",
      "feels that Gojo looks at the world in a more childish way than his previous characters as, while\n",
      "Gojo has seen several challenges in his past, none of them made a major impact on him. In order to\n",
      "lipsynch the character, Tang ended adlibing, resulting in Gojo swearing when confronting Jogo.\n",
      "-----------------------------------------------------------------\n",
      "-----------------------------------------------------------------\n",
      "Critical response Comic Book Resources regarded Gojo as the 9th most mature character in the series\n",
      "despite his childish personality which is why they found the character highly lovable within the\n",
      "manga's readers. In another article, the same site regarded him as one of the series' most dangerous\n",
      "members due to his over-the-top powers that cannot be rivaled by anyone else in the manga. IGN also\n",
      "called Gojo as a fan-favorite character due to the focus of his personality. StudyBreak also noted\n",
      "that Gojo's flamboyant personality often comes across fitting comic relief, citing how he reacts\n",
      "when he thinks Fushiguro is being hit on by a woman as well as how impressive he is shown to be in\n",
      "combat against a serious threat. Despite comparing him to other mentor characters like Kakashi\n",
      "Hatake, All Might or Aizawa, Bleeding Cool said Gojo remains as more likable within this archetype\n",
      "as a result of how \"The character is truly a balance of caring coldness with power that keeps\n",
      "dismissing any serious threats\", particularly for how caring he is to his students and the might he\n",
      "shows in battle sequences. An article about the character's best ten fight scenes was also written\n",
      "by Comic Book Resources with his fight against Jogo, being not only the best rated fight he has been\n",
      "involved, but also the series' best fight. Like Comic Book Resources, Anime News Network praised the\n",
      "fight scene Gojo has against Jogo for the handling of visuals, finding it far superior than the\n",
      "studio's previous work The God of High School referred by the staff as \"irredeemable trash\" not only\n",
      "due to the narrative but also pacing in handling Gojo's fight sequence, making the anime adaptation\n",
      "of Jujutsu Kaisen develop its potential in the process. While still finding Gojo as an archetype due\n",
      "to the overpowered he is portrayed as, the reviewer still found him enjoyable personality-wise. The\n",
      "Mary Sue found Gojo's characterization in Jujutsu Kaisen 0 identical to the main series as a result\n",
      "of how he trains the students but still found the pilot helped to further explore his past as a\n",
      "result of his tragic relationship with Geto. Crunchyroll listed Gojo's higher screen time in the\n",
      "animated film adaptation of the manga, citing him as a fan favorite character people would\n",
      "appreciate to see. The character's connection with the late Sugawara no Michizane was kept vague\n",
      "that might generate a future impact in the series by critics especially when Yuta Okkotsu reappears\n",
      "in Jujutsu Kaisen and wonders about their relationship to Suguwara. Otaquest also noted the\n",
      "similarities as well as how important is the relationship between Gojo and Geto which ends in a way\n",
      "that surprised the main series' readers. Manga News looked forward to more focus about the\n",
      "relationship between Gojo and Geto. The eventual exploration of Gojo and Geto's youth in the second\n",
      "season of the anime received the praise by IGN for their dynamic though the site found the former's\n",
      "powers too complicated to explain and that Geto appeared to be more important to see in such arc.\n",
      "Gojo's character has been popular in social focus. Following the anime adaptation of the flashbacks\n",
      "to Geto and Gojo's youth, Polygon's Ana Diaz noticed there were several fans who made dōjinshi\n",
      "stories with them which went viral. The twist of the manga chapter involving Gojo's death led to\n",
      "manga artist Kenjiro Hata go on a hiatus from writing the manga Fly Me to the Moon due to the need\n",
      "of recovering from the \"shocking\" event. According to IGN, Akutami received death threats over the\n",
      "death of Gojo which came across as a shocking event to several manga readers. In September 2023,\n",
      "leaks of the manga's 236th chapter cause a major controversy online within fans of the series. The\n",
      "contents of the chapter surprised fans so much that they took to social media to react to the new\n",
      "development. At time of publication, the \"#GojoSatoru\" hashtag was trending on X with more than\n",
      "11,400 posts. Comic Book Resources had mixed opinions about Gojo's death, praising the event for the\n",
      "major impact it resulted in the entire narrative since nearly most of the surviving characters\n",
      "watching his death were his students but still felt like Akutami was trying too hard to make Jujutsu\n",
      "Kaisen a dark series by killing several characters in the Shinjuku arc. Gojo's death despite his\n",
      "confidence when confronting Sukuna and Kenjaku became famous in social media due to the ironic\n",
      "result. Once the series ended, GameRant praised both Gojo and Yuta's characters as the writer noted\n",
      "they overshadowed the actual main character of the series, Yuji. The character has often been\n",
      "compared with Killua Zoldyck from Hunter × Hunter due to physical and personality similarities. When\n",
      "Mariya Ise was cast to portray the younger Gojo in a flashback from the anime's second season,\n",
      "Hindustan Times said the \"meme came to life\" as Ise was also popular for voicing Killua and fans\n",
      "were happy with such casting.\n",
      "-----------------------------------------------------------------\n"
     ]
    }
   ],
   "source": [
    "CONTEXT = \"\"\n",
    "for i, p in enumerate(most_similar_documents):\n",
    "  wrapped_text = textwrap.fill(p, width=100)\n",
    "\n",
    "  print(\"-----------------------------------------------------------------\")\n",
    "  print(wrapped_text)\n",
    "  print(\"-----------------------------------------------------------------\")\n",
    "  CONTEXT += wrapped_text + \"\\n\\n\""
   ]
  },
  {
   "cell_type": "code",
   "execution_count": 90,
   "id": "a9988ebc-99de-4738-92ac-59389f393942",
   "metadata": {},
   "outputs": [],
   "source": [
    "query = \"Who is GOJO ?\""
   ]
  },
  {
   "cell_type": "code",
   "execution_count": 92,
   "id": "fc86e669-04dd-4bb9-9098-39c0e32eb241",
   "metadata": {},
   "outputs": [],
   "source": [
    "prompt = f\"\"\"\n",
    "use the following CONTEXT to answer the QUESTION at the end.\n",
    "If you don't know the answer, just say that you don't know, don't try to make up an answer.\n",
    "\n",
    "CONTEXT: {CONTEXT}\n",
    "QUESTION: {query}\n",
    "\n",
    "\"\"\""
   ]
  },
  {
   "cell_type": "code",
   "execution_count": 94,
   "id": "5fead462-9d73-4566-8e73-4d495441a40d",
   "metadata": {},
   "outputs": [
    {
     "name": "stdout",
     "output_type": "stream",
     "text": [
      "Satoru Gojo is a character from Gege Akutami's manga *Jujutsu Kaisen*.  He is a mentor to the students Yuji Itadori and Yuta Okkotsu, a powerful and endearing figure known for his carefree nature and immense abilities.\n",
      "\n"
     ]
    }
   ],
   "source": [
    "import google.generativeai as genai\n",
    "\n",
    "genai.configure(api_key=\"GOOGLE_API_KEY\")  \n",
    "model = genai.GenerativeModel(\"gemini-1.5-flash\")\n",
    "messages = [\n",
    "    {\"role\": \"user\", \"content\": prompt}\n",
    "]\n",
    "response = model.start_chat().send_message(prompt)\n",
    "print(response.text)\n"
   ]
  },
  {
   "cell_type": "code",
   "execution_count": null,
   "id": "a0057c0f-7f74-4723-8093-e90cc9528835",
   "metadata": {},
   "outputs": [],
   "source": []
  },
  {
   "cell_type": "code",
   "execution_count": null,
   "id": "baaf06e4-6069-4832-a424-89fc5a575402",
   "metadata": {},
   "outputs": [],
   "source": []
  }
 ],
 "metadata": {
  "kernelspec": {
   "display_name": "Python [conda env:base] *",
   "language": "python",
   "name": "conda-base-py"
  },
  "language_info": {
   "codemirror_mode": {
    "name": "ipython",
    "version": 3
   },
   "file_extension": ".py",
   "mimetype": "text/x-python",
   "name": "python",
   "nbconvert_exporter": "python",
   "pygments_lexer": "ipython3",
   "version": "3.12.7"
  }
 },
 "nbformat": 4,
 "nbformat_minor": 5
}
